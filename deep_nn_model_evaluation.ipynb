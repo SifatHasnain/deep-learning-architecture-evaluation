{
  "cells": [
    {
      "cell_type": "code",
      "execution_count": null,
      "metadata": {
        "id": "7wJ4cH_ujKu_"
      },
      "outputs": [],
      "source": [
        "#import libraries\n",
        "import os\n",
        "import seaborn as sns\n",
        "import matplotlib.pyplot as plt\n",
        "\n",
        "#import files\n",
        "import config\n",
        "from utils import *"
      ]
    },
    {
      "cell_type": "markdown",
      "metadata": {},
      "source": [
        "# Check model Configurations"
      ]
    },
    {
      "cell_type": "code",
      "execution_count": null,
      "metadata": {},
      "outputs": [],
      "source": [
        "print(config)"
      ]
    },
    {
      "cell_type": "markdown",
      "metadata": {},
      "source": [
        "# Start training"
      ]
    },
    {
      "cell_type": "code",
      "execution_count": null,
      "metadata": {
        "id": "aTOgOMsWesAW"
      },
      "outputs": [],
      "source": [
        "!python train.py"
      ]
    },
    {
      "cell_type": "markdown",
      "metadata": {},
      "source": [
        "# Open Tensorboard to Show Train and Validation logs"
      ]
    },
    {
      "cell_type": "code",
      "execution_count": null,
      "metadata": {},
      "outputs": [],
      "source": [
        "result_save_path = os.path.join(config.result_dir, config.model)\n",
        "log_dir = os.path.join(result_save_path, \"logs_{}\".format(config.version))"
      ]
    },
    {
      "cell_type": "code",
      "execution_count": null,
      "metadata": {
        "id": "uEuw4JFVkEtz"
      },
      "outputs": [],
      "source": [
        "%load_ext tensorboard\n",
        "\n",
        "%tensorboard --logdir ${log_dir}\n"
      ]
    },
    {
      "cell_type": "markdown",
      "metadata": {},
      "source": [
        "# Test model on test data and show accuracy and confusion matrix"
      ]
    },
    {
      "cell_type": "code",
      "execution_count": null,
      "metadata": {},
      "outputs": [],
      "source": [
        "# set up the figure\n",
        "fig = plt.figure(figsize=(10, 6))\n",
        "fig.subplots_adjust(left=0, right=1, bottom=0, top=1, hspace=0.05, wspace=0.05)\n",
        "\n",
        "confusion_matrix_image_path = os.path.join(result_save_path, 'confusion_matrix_{}_{}.jpg'.format(config.model, config.version))"
      ]
    },
    {
      "cell_type": "code",
      "execution_count": null,
      "metadata": {
        "id": "CF66oJNCj0zu"
      },
      "outputs": [],
      "source": [
        "preds, labels, test_images, cf, accuracy = evaluate()\n",
        "\n",
        "print(accuracy)\n",
        "\n",
        "plt.figure(figsize=(5,4))\n",
        "sns.heatmap(cf, annot=True, xticklabels=['cat','dog'], yticklabels=['cat','dog'])\n",
        "plt.title('Confusion Matrix')\n",
        "plt.ylabel('Actual Values')\n",
        "plt.xlabel('Predicted Values')\n",
        "sns.heatmap(cf, annot=True, xticklabels=['cat','dog'], yticklabels=['cat','dog']).figure.savefig(confusion_matrix_image_path)\n",
        "plt.show()\n"
      ]
    },
    {
      "cell_type": "markdown",
      "metadata": {},
      "source": [
        "## Visualize some predictions"
      ]
    },
    {
      "cell_type": "code",
      "execution_count": null,
      "metadata": {},
      "outputs": [],
      "source": [
        "# plot the images: each image is 227x227 pixels\n",
        "for i in range(8):\n",
        "    ax = fig.add_subplot(2, 4, i + 1, xticks=[], yticks=[])\n",
        "    ax.imshow(test_images[i,:],cmap=plt.cm.gray_r, interpolation='nearest')\n",
        "\n",
        "    if preds[i] == labels[i]:\n",
        "        # label the image with the blue text\n",
        "        ax.text(3, 17, config.class_names[preds[i]], color='blue', fontsize=14)\n",
        "    else:\n",
        "        # label the image with the red text\n",
        "        ax.text(3, 17, config.class_names[preds[i]], color='red', fontsize=14)\n"
      ]
    }
  ],
  "metadata": {
    "colab": {
      "name": "Deep nn models.ipynb",
      "provenance": []
    },
    "kernelspec": {
      "display_name": "Python 3",
      "name": "python3"
    },
    "language_info": {
      "name": "python"
    }
  },
  "nbformat": 4,
  "nbformat_minor": 0
}
