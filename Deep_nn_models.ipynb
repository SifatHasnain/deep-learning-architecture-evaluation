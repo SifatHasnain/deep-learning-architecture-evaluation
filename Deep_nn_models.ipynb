{
  "nbformat": 4,
  "nbformat_minor": 0,
  "metadata": {
    "colab": {
      "name": "Deep nn models.ipynb",
      "provenance": [],
      "authorship_tag": "ABX9TyN/3rCEBwpQ2Mw65tYvfaT1",
      "include_colab_link": true
    },
    "kernelspec": {
      "name": "python3",
      "display_name": "Python 3"
    },
    "language_info": {
      "name": "python"
    }
  },
  "cells": [
    {
      "cell_type": "markdown",
      "metadata": {
        "id": "view-in-github",
        "colab_type": "text"
      },
      "source": [
        "<a href=\"https://colab.research.google.com/github/SifatHasnain/deep-learning-model-evaluation/blob/main/Deep_nn_models.ipynb\" target=\"_parent\"><img src=\"https://colab.research.google.com/assets/colab-badge.svg\" alt=\"Open In Colab\"/></a>"
      ]
    },
    {
      "cell_type": "code",
      "source": [
        "#import files\n"
      ],
      "metadata": {
        "id": "7wJ4cH_ujKu_"
      },
      "execution_count": null,
      "outputs": []
    },
    {
      "cell_type": "code",
      "execution_count": null,
      "metadata": {
        "id": "aTOgOMsWesAW"
      },
      "outputs": [],
      "source": [
        "!python train.py"
      ]
    },
    {
      "cell_type": "code",
      "source": [
        "!python util.py"
      ],
      "metadata": {
        "id": "CF66oJNCj0zu"
      },
      "execution_count": null,
      "outputs": []
    },
    {
      "cell_type": "code",
      "source": [
        "%load_ext tensorboard\n",
        "\n",
        "%tensorboard --logdir logs/fit\n",
        "\n",
        "log_dir"
      ],
      "metadata": {
        "id": "uEuw4JFVkEtz"
      },
      "execution_count": null,
      "outputs": []
    }
  ]
}